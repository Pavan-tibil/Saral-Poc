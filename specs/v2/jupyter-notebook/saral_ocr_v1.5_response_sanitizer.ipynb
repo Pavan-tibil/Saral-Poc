{
 "cells": [
  {
   "cell_type": "code",
   "execution_count": 32,
   "id": "f84d1e46",
   "metadata": {},
   "outputs": [],
   "source": [
    "## To simulate response sanitizer from layout configuration before sending to backend.\n",
    "import json\n",
    "\n",
    "responseExcludeFields= ['rois','validate','render']\n",
    "json_file = json.load(open(\"../samples/sat_odisha_generated_2_v1.5.json\"))\n"
   ]
  },
  {
   "cell_type": "code",
   "execution_count": null,
   "id": "0b4eab84",
   "metadata": {},
   "outputs": [],
   "source": []
  }
 ],
 "metadata": {
  "kernelspec": {
   "display_name": "Python 3 (ipykernel)",
   "language": "python",
   "name": "python3"
  },
  "language_info": {
   "codemirror_mode": {
    "name": "ipython",
    "version": 3
   },
   "file_extension": ".py",
   "mimetype": "text/x-python",
   "name": "python",
   "nbconvert_exporter": "python",
   "pygments_lexer": "ipython3",
   "version": "3.9.7"
  }
 },
 "nbformat": 4,
 "nbformat_minor": 5
}
