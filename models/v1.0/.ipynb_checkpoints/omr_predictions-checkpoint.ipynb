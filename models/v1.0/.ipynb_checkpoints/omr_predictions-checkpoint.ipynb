{
 "cells": [
  {
   "cell_type": "code",
   "execution_count": 1,
   "id": "db7f4378",
   "metadata": {},
   "outputs": [],
   "source": [
    "import numpy as np\n",
    "import scipy.misc\n",
    "import os,glob,cv2,shutil,argparse,matplotlib\n",
    "import tensorflow as tf\n",
    "from PIL import Image"
   ]
  },
  {
   "cell_type": "code",
   "execution_count": 2,
   "id": "c4c24393",
   "metadata": {},
   "outputs": [],
   "source": [
    "#filledOmrimg=cv2.cvtColor(cv2.imread(\"./images/omr_filled/omr_filled_gujrat_3.png\"), cv2.COLOR_BGR2GRAY)\n",
    "#unfilledOmrimg=cv2.cvtColor(cv2.imread(\"./images/omr_unfilled/omr_unfilled_gujrat_3.png\"), cv2.COLOR_BGR2GRAY)\n",
    "\n",
    "filledOmrimg=cv2.cvtColor(cv2.imread(\"./images/omr_filled/omr_filled_1.png\"), cv2.COLOR_BGR2GRAY)\n",
    "unfilledOmrimg=cv2.cvtColor(cv2.imread(\"./images/omr_unfilled/omr_unfilled_1.png\"), cv2.COLOR_BGR2GRAY)\n",
    "\n",
    "#filledOmrGauimg = cv2.adaptiveThreshold(cv2.bitwise_not(cv2.GaussianBlur(filledOmrimg,(3,3),cv2.BORDER_DEFAULT)),maxValue = 255, adaptiveMethod = cv2.ADAPTIVE_THRESH_MEAN_C, thresholdType = cv2.THRESH_BINARY, blockSize = 51, C = 0)\n",
    "#unfilledOmrGauimg = cv2.adaptiveThreshold(cv2.bitwise_not(cv2.GaussianBlur(unfilledOmrimg,(3,3),cv2.BORDER_DEFAULT)),maxValue = 255, adaptiveMethod = cv2.ADAPTIVE_THRESH_MEAN_C, thresholdType = cv2.THRESH_BINARY, blockSize = 51, C = 0)\n",
    "\n",
    "filledOmrGauimg = cv2.adaptiveThreshold(cv2.bitwise_not(cv2.Canny(cv2.GaussianBlur(filledOmrimg,(3,3),cv2.BORDER_DEFAULT),80,100)),maxValue = 255, adaptiveMethod = cv2.ADAPTIVE_THRESH_MEAN_C, thresholdType = cv2.THRESH_BINARY, blockSize = 51, C = 0)\n",
    "unfilledOmrGauimg = cv2.adaptiveThreshold(cv2.bitwise_not(cv2.Canny(cv2.GaussianBlur(unfilledOmrimg,(3,3),cv2.BORDER_DEFAULT),80,100)),maxValue = 255, adaptiveMethod = cv2.ADAPTIVE_THRESH_MEAN_C, thresholdType = cv2.THRESH_BINARY, blockSize = 51, C = 0)\n",
    "\n",
    "# filledCannyImg = cv2.Canny(filledOmrGauimg,80, 100)\n",
    "# unfilledCannyImg = cv2.Canny(unfilledOmrGauimg,80, 100)\n",
    "\n",
    "filledCount = cv2.countNonZero(filledOmrGauimg)\n",
    "unfilledCount = cv2.countNonZero(unfilledOmrGauimg)"
   ]
  },
  {
   "cell_type": "code",
   "execution_count": 110,
   "id": "7999909c",
   "metadata": {},
   "outputs": [
    {
     "name": "stdout",
     "output_type": "stream",
     "text": [
      "filledPercentage (old logic): 641.0\n",
      "unfilled count (old logic): 608.0\n"
     ]
    }
   ],
   "source": [
    "## Old logic\n",
    "filledPercentage = filledCount / filledOmrGauimg.shape[1] * filledOmrGauimg.shape[0]\n",
    "unfilledPercentage = unfilledCount / unfilledOmrGauimg.shape[1] * unfilledOmrGauimg.shape[0]\n",
    "\n",
    "print('filledPercentage (old logic):',filledPercentage)\n",
    "print('unfilled count (old logic):',unfilledPercentage)"
   ]
  },
  {
   "cell_type": "code",
   "execution_count": 111,
   "id": "8b68b23f",
   "metadata": {},
   "outputs": [
    {
     "name": "stdout",
     "output_type": "stream",
     "text": [
      "filledPercentage (new logic): 81.76020408163265\n",
      "unfilledPercentage (new logic): 77.55102040816327\n",
      "filled\n",
      "filled\n"
     ]
    }
   ],
   "source": [
    "## New logic\n",
    "filledPercentage = filledCount / (filledOmrGauimg.shape[1] * filledOmrGauimg.shape[0]) * 100\n",
    "unfilledPercentage = unfilledCount / (unfilledOmrGauimg.shape[1] * unfilledOmrGauimg.shape[0]) * 100\n",
    "\n",
    "print('filledPercentage (new logic):',filledPercentage)\n",
    "print('unfilledPercentage (new logic):',unfilledPercentage)\n",
    "\n",
    "if filledPercentage > 75.0 :\n",
    "    print('filled')\n",
    "else:\n",
    "    print('unfilled')\n",
    "    \n",
    "if unfilledPercentage > 75.0 :\n",
    "    print('filled')\n",
    "else:\n",
    "    print('unfilled')    "
   ]
  },
  {
   "cell_type": "code",
   "execution_count": 6,
   "id": "de31c249",
   "metadata": {},
   "outputs": [],
   "source": [
    "def check_black_pixel(img_path):\n",
    "    for img in glob.glob(img_path):\n",
    "        filledimg=cv2.imread(img)\n",
    "        filledimg=cv2.cvtColor(filledimg,cv2.COLOR_BGR2GRAY)\n",
    "        number_of_black_pix = np.sum(filledimg <= 50)\n",
    "        print('Number of black pixels in {}          '.format(img.split(\"/\")[-1]), number_of_black_pix)"
   ]
  },
  {
   "cell_type": "code",
   "execution_count": 7,
   "id": "4926e808",
   "metadata": {},
   "outputs": [
    {
     "name": "stdout",
     "output_type": "stream",
     "text": [
      "black pixel count in filled image----------------------->>>>>>>\n",
      "Number of black pixels in omr_filled_gujrat_3.png           305\n",
      "Number of black pixels in omr_filled_2.png           109\n",
      "Number of black pixels in omr_filled_1.png           443\n",
      "black pixel count in unfilled image--------------------->>>>>>\n",
      "Number of black pixels in omr_unfilled_2.png           0\n",
      "Number of black pixels in omr_unfilled_1.png           4\n",
      "Number of black pixels in omr_unfilled_gujrat_3.png           0\n"
     ]
    }
   ],
   "source": [
    "filled_img_path=\"./images/omr_filled/*.png\"\n",
    "print(\"black pixel count in filled image----------------------->>>>>>>\")\n",
    "check_black_pixel(filled_img_path)\n",
    "\n",
    "unfilled_img_path=\"./images/omr_unfilled/*.png\"\n",
    "print(\"black pixel count in unfilled image--------------------->>>>>>\")\n",
    "check_black_pixel(unfilled_img_path)\n"
   ]
  },
  {
   "cell_type": "code",
   "execution_count": null,
   "id": "4b07c70e",
   "metadata": {},
   "outputs": [],
   "source": []
  }
 ],
 "metadata": {
  "kernelspec": {
   "display_name": "Python 3",
   "language": "python",
   "name": "python3"
  },
  "language_info": {
   "codemirror_mode": {
    "name": "ipython",
    "version": 3
   },
   "file_extension": ".py",
   "mimetype": "text/x-python",
   "name": "python",
   "nbconvert_exporter": "python",
   "pygments_lexer": "ipython3",
   "version": "3.8.8"
  }
 },
 "nbformat": 4,
 "nbformat_minor": 5
}
